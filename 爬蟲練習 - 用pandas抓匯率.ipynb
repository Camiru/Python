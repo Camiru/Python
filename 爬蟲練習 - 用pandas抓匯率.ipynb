{
 "cells": [
  {
   "cell_type": "code",
   "execution_count": 63,
   "metadata": {
    "collapsed": true
   },
   "outputs": [],
   "source": [
    "import pandas  #用pandas抓表格\n",
    "dfs = pandas.read_html('http://rate.bot.com.tw/xrt?Lang=zh-TW')"
   ]
  },
  {
   "cell_type": "code",
   "execution_count": 64,
   "metadata": {
    "collapsed": false
   },
   "outputs": [
    {
     "data": {
      "text/plain": [
       "list"
      ]
     },
     "execution_count": 64,
     "metadata": {},
     "output_type": "execute_result"
    }
   ],
   "source": [
    "type(dfs)"
   ]
  },
  {
   "cell_type": "code",
   "execution_count": 65,
   "metadata": {
    "collapsed": false
   },
   "outputs": [],
   "source": [
    "currency = dfs[0]"
   ]
  },
  {
   "cell_type": "code",
   "execution_count": 66,
   "metadata": {
    "collapsed": false
   },
   "outputs": [
    {
     "data": {
      "text/plain": [
       "pandas.core.frame.DataFrame"
      ]
     },
     "execution_count": 66,
     "metadata": {},
     "output_type": "execute_result"
    }
   ],
   "source": [
    "type(currency)"
   ]
  },
  {
   "cell_type": "code",
   "execution_count": 67,
   "metadata": {
    "collapsed": false
   },
   "outputs": [],
   "source": [
    "currency = currency.ix[:,0:5] #取前五欄"
   ]
  },
  {
   "cell_type": "code",
   "execution_count": 68,
   "metadata": {
    "collapsed": false
   },
   "outputs": [
    {
     "data": {
      "text/html": [
       "<div>\n",
       "<table border=\"1\" class=\"dataframe\">\n",
       "  <thead>\n",
       "    <tr style=\"text-align: right;\">\n",
       "      <th></th>\n",
       "      <th>幣別</th>\n",
       "      <th>幣別.1</th>\n",
       "      <th>現金匯率</th>\n",
       "      <th>Unnamed: 3</th>\n",
       "      <th>即期匯率</th>\n",
       "    </tr>\n",
       "  </thead>\n",
       "  <tbody>\n",
       "    <tr>\n",
       "      <th>0</th>\n",
       "      <td>美金 (USD)  美金 (USD)</td>\n",
       "      <td>31.95</td>\n",
       "      <td>32.492</td>\n",
       "      <td>32.25</td>\n",
       "      <td>32.35</td>\n",
       "    </tr>\n",
       "    <tr>\n",
       "      <th>1</th>\n",
       "      <td>港幣 (HKD)  港幣 (HKD)</td>\n",
       "      <td>4.013</td>\n",
       "      <td>4.208</td>\n",
       "      <td>4.133</td>\n",
       "      <td>4.193</td>\n",
       "    </tr>\n",
       "    <tr>\n",
       "      <th>2</th>\n",
       "      <td>英鎊 (GBP)  英鎊 (GBP)</td>\n",
       "      <td>38.63</td>\n",
       "      <td>40.56</td>\n",
       "      <td>39.5</td>\n",
       "      <td>39.92</td>\n",
       "    </tr>\n",
       "    <tr>\n",
       "      <th>3</th>\n",
       "      <td>澳幣 (AUD)  澳幣 (AUD)</td>\n",
       "      <td>23</td>\n",
       "      <td>23.66</td>\n",
       "      <td>23.19</td>\n",
       "      <td>23.42</td>\n",
       "    </tr>\n",
       "    <tr>\n",
       "      <th>4</th>\n",
       "      <td>加拿大幣 (CAD)  加拿大幣 (CAD)</td>\n",
       "      <td>23.42</td>\n",
       "      <td>24.16</td>\n",
       "      <td>23.69</td>\n",
       "      <td>23.91</td>\n",
       "    </tr>\n",
       "    <tr>\n",
       "      <th>5</th>\n",
       "      <td>新加坡幣 (SGD)  新加坡幣 (SGD)</td>\n",
       "      <td>21.77</td>\n",
       "      <td>22.55</td>\n",
       "      <td>22.19</td>\n",
       "      <td>22.37</td>\n",
       "    </tr>\n",
       "    <tr>\n",
       "      <th>6</th>\n",
       "      <td>瑞士法郎 (CHF)  瑞士法郎 (CHF)</td>\n",
       "      <td>30.76</td>\n",
       "      <td>31.82</td>\n",
       "      <td>31.29</td>\n",
       "      <td>31.58</td>\n",
       "    </tr>\n",
       "    <tr>\n",
       "      <th>7</th>\n",
       "      <td>日圓 (JPY)  日圓 (JPY)</td>\n",
       "      <td>0.2664</td>\n",
       "      <td>0.2774</td>\n",
       "      <td>0.2728</td>\n",
       "      <td>0.2768</td>\n",
       "    </tr>\n",
       "    <tr>\n",
       "      <th>8</th>\n",
       "      <td>南非幣 (ZAR)  南非幣 (ZAR)</td>\n",
       "      <td>-</td>\n",
       "      <td>-</td>\n",
       "      <td>2.28</td>\n",
       "      <td>2.36</td>\n",
       "    </tr>\n",
       "    <tr>\n",
       "      <th>9</th>\n",
       "      <td>瑞典幣 (SEK)  瑞典幣 (SEK)</td>\n",
       "      <td>3.12</td>\n",
       "      <td>3.63</td>\n",
       "      <td>3.46</td>\n",
       "      <td>3.56</td>\n",
       "    </tr>\n",
       "    <tr>\n",
       "      <th>10</th>\n",
       "      <td>紐元 (NZD)  紐元 (NZD)</td>\n",
       "      <td>22.02</td>\n",
       "      <td>22.65</td>\n",
       "      <td>22.26</td>\n",
       "      <td>22.46</td>\n",
       "    </tr>\n",
       "    <tr>\n",
       "      <th>11</th>\n",
       "      <td>泰幣 (THB)  泰幣 (THB)</td>\n",
       "      <td>0.7932</td>\n",
       "      <td>0.9362</td>\n",
       "      <td>0.8817</td>\n",
       "      <td>0.9217</td>\n",
       "    </tr>\n",
       "    <tr>\n",
       "      <th>12</th>\n",
       "      <td>菲國比索 (PHP)  菲國比索 (PHP)</td>\n",
       "      <td>0.6</td>\n",
       "      <td>0.733</td>\n",
       "      <td>-</td>\n",
       "      <td>-</td>\n",
       "    </tr>\n",
       "    <tr>\n",
       "      <th>13</th>\n",
       "      <td>印尼幣 (IDR)  印尼幣 (IDR)</td>\n",
       "      <td>0.00208</td>\n",
       "      <td>0.00278</td>\n",
       "      <td>-</td>\n",
       "      <td>-</td>\n",
       "    </tr>\n",
       "    <tr>\n",
       "      <th>14</th>\n",
       "      <td>歐元 (EUR)  歐元 (EUR)</td>\n",
       "      <td>33.12</td>\n",
       "      <td>34.27</td>\n",
       "      <td>33.62</td>\n",
       "      <td>34.02</td>\n",
       "    </tr>\n",
       "    <tr>\n",
       "      <th>15</th>\n",
       "      <td>韓元 (KRW)  韓元 (KRW)</td>\n",
       "      <td>0.02495</td>\n",
       "      <td>0.02885</td>\n",
       "      <td>-</td>\n",
       "      <td>-</td>\n",
       "    </tr>\n",
       "    <tr>\n",
       "      <th>16</th>\n",
       "      <td>越南盾 (VND)  越南盾 (VND)</td>\n",
       "      <td>0.00105</td>\n",
       "      <td>0.00155</td>\n",
       "      <td>-</td>\n",
       "      <td>-</td>\n",
       "    </tr>\n",
       "    <tr>\n",
       "      <th>17</th>\n",
       "      <td>馬來幣 (MYR)  馬來幣 (MYR)</td>\n",
       "      <td>6.122</td>\n",
       "      <td>7.722</td>\n",
       "      <td>-</td>\n",
       "      <td>-</td>\n",
       "    </tr>\n",
       "    <tr>\n",
       "      <th>18</th>\n",
       "      <td>人民幣 (CNY)  人民幣 (CNY)</td>\n",
       "      <td>4.546</td>\n",
       "      <td>4.708</td>\n",
       "      <td>4.618</td>\n",
       "      <td>4.668</td>\n",
       "    </tr>\n",
       "  </tbody>\n",
       "</table>\n",
       "</div>"
      ],
      "text/plain": [
       "                        幣別     幣別.1     現金匯率 Unnamed: 3    即期匯率\n",
       "0       美金 (USD)  美金 (USD)    31.95   32.492      32.25   32.35\n",
       "1       港幣 (HKD)  港幣 (HKD)    4.013    4.208      4.133   4.193\n",
       "2       英鎊 (GBP)  英鎊 (GBP)    38.63    40.56       39.5   39.92\n",
       "3       澳幣 (AUD)  澳幣 (AUD)       23    23.66      23.19   23.42\n",
       "4   加拿大幣 (CAD)  加拿大幣 (CAD)    23.42    24.16      23.69   23.91\n",
       "5   新加坡幣 (SGD)  新加坡幣 (SGD)    21.77    22.55      22.19   22.37\n",
       "6   瑞士法郎 (CHF)  瑞士法郎 (CHF)    30.76    31.82      31.29   31.58\n",
       "7       日圓 (JPY)  日圓 (JPY)   0.2664   0.2774     0.2728  0.2768\n",
       "8     南非幣 (ZAR)  南非幣 (ZAR)        -        -       2.28    2.36\n",
       "9     瑞典幣 (SEK)  瑞典幣 (SEK)     3.12     3.63       3.46    3.56\n",
       "10      紐元 (NZD)  紐元 (NZD)    22.02    22.65      22.26   22.46\n",
       "11      泰幣 (THB)  泰幣 (THB)   0.7932   0.9362     0.8817  0.9217\n",
       "12  菲國比索 (PHP)  菲國比索 (PHP)      0.6    0.733          -       -\n",
       "13    印尼幣 (IDR)  印尼幣 (IDR)  0.00208  0.00278          -       -\n",
       "14      歐元 (EUR)  歐元 (EUR)    33.12    34.27      33.62   34.02\n",
       "15      韓元 (KRW)  韓元 (KRW)  0.02495  0.02885          -       -\n",
       "16    越南盾 (VND)  越南盾 (VND)  0.00105  0.00155          -       -\n",
       "17    馬來幣 (MYR)  馬來幣 (MYR)    6.122    7.722          -       -\n",
       "18    人民幣 (CNY)  人民幣 (CNY)    4.546    4.708      4.618   4.668"
      ]
     },
     "execution_count": 68,
     "metadata": {},
     "output_type": "execute_result"
    }
   ],
   "source": [
    "currency"
   ]
  },
  {
   "cell_type": "code",
   "execution_count": 69,
   "metadata": {
    "collapsed": true
   },
   "outputs": [],
   "source": [
    "uscurrency = currency.ix[0:0,0:2] #取美金"
   ]
  },
  {
   "cell_type": "code",
   "execution_count": 70,
   "metadata": {
    "collapsed": false
   },
   "outputs": [
    {
     "data": {
      "text/html": [
       "<div>\n",
       "<table border=\"1\" class=\"dataframe\">\n",
       "  <thead>\n",
       "    <tr style=\"text-align: right;\">\n",
       "      <th></th>\n",
       "      <th>幣別</th>\n",
       "      <th>幣別.1</th>\n",
       "    </tr>\n",
       "  </thead>\n",
       "  <tbody>\n",
       "    <tr>\n",
       "      <th>0</th>\n",
       "      <td>美金 (USD)  美金 (USD)</td>\n",
       "      <td>31.95</td>\n",
       "    </tr>\n",
       "  </tbody>\n",
       "</table>\n",
       "</div>"
      ],
      "text/plain": [
       "                   幣別   幣別.1\n",
       "0  美金 (USD)  美金 (USD)  31.95"
      ]
     },
     "execution_count": 70,
     "metadata": {},
     "output_type": "execute_result"
    }
   ],
   "source": [
    "uscurrency"
   ]
  },
  {
   "cell_type": "code",
   "execution_count": 71,
   "metadata": {
    "collapsed": true
   },
   "outputs": [],
   "source": [
    "currency.columns = [u'幣別' , u'現金匯率-本行買入',u'現金匯率-本行賣出',u'即期匯率-本行買入',u'即期匯率-本行賣出'] \n",
    "#更改欄位名稱"
   ]
  },
  {
   "cell_type": "code",
   "execution_count": 72,
   "metadata": {
    "collapsed": false
   },
   "outputs": [
    {
     "data": {
      "text/html": [
       "<div>\n",
       "<table border=\"1\" class=\"dataframe\">\n",
       "  <thead>\n",
       "    <tr style=\"text-align: right;\">\n",
       "      <th></th>\n",
       "      <th>幣別</th>\n",
       "      <th>現金匯率-本行買入</th>\n",
       "      <th>現金匯率-本行賣出</th>\n",
       "      <th>即期匯率-本行買入</th>\n",
       "      <th>即期匯率-本行賣出</th>\n",
       "    </tr>\n",
       "  </thead>\n",
       "  <tbody>\n",
       "    <tr>\n",
       "      <th>0</th>\n",
       "      <td>美金 (USD)  美金 (USD)</td>\n",
       "      <td>31.95</td>\n",
       "      <td>32.492</td>\n",
       "      <td>32.25</td>\n",
       "      <td>32.35</td>\n",
       "    </tr>\n",
       "    <tr>\n",
       "      <th>1</th>\n",
       "      <td>港幣 (HKD)  港幣 (HKD)</td>\n",
       "      <td>4.013</td>\n",
       "      <td>4.208</td>\n",
       "      <td>4.133</td>\n",
       "      <td>4.193</td>\n",
       "    </tr>\n",
       "    <tr>\n",
       "      <th>2</th>\n",
       "      <td>英鎊 (GBP)  英鎊 (GBP)</td>\n",
       "      <td>38.63</td>\n",
       "      <td>40.56</td>\n",
       "      <td>39.5</td>\n",
       "      <td>39.92</td>\n",
       "    </tr>\n",
       "    <tr>\n",
       "      <th>3</th>\n",
       "      <td>澳幣 (AUD)  澳幣 (AUD)</td>\n",
       "      <td>23</td>\n",
       "      <td>23.66</td>\n",
       "      <td>23.19</td>\n",
       "      <td>23.42</td>\n",
       "    </tr>\n",
       "    <tr>\n",
       "      <th>4</th>\n",
       "      <td>加拿大幣 (CAD)  加拿大幣 (CAD)</td>\n",
       "      <td>23.42</td>\n",
       "      <td>24.16</td>\n",
       "      <td>23.69</td>\n",
       "      <td>23.91</td>\n",
       "    </tr>\n",
       "    <tr>\n",
       "      <th>5</th>\n",
       "      <td>新加坡幣 (SGD)  新加坡幣 (SGD)</td>\n",
       "      <td>21.77</td>\n",
       "      <td>22.55</td>\n",
       "      <td>22.19</td>\n",
       "      <td>22.37</td>\n",
       "    </tr>\n",
       "    <tr>\n",
       "      <th>6</th>\n",
       "      <td>瑞士法郎 (CHF)  瑞士法郎 (CHF)</td>\n",
       "      <td>30.76</td>\n",
       "      <td>31.82</td>\n",
       "      <td>31.29</td>\n",
       "      <td>31.58</td>\n",
       "    </tr>\n",
       "    <tr>\n",
       "      <th>7</th>\n",
       "      <td>日圓 (JPY)  日圓 (JPY)</td>\n",
       "      <td>0.2664</td>\n",
       "      <td>0.2774</td>\n",
       "      <td>0.2728</td>\n",
       "      <td>0.2768</td>\n",
       "    </tr>\n",
       "    <tr>\n",
       "      <th>8</th>\n",
       "      <td>南非幣 (ZAR)  南非幣 (ZAR)</td>\n",
       "      <td>-</td>\n",
       "      <td>-</td>\n",
       "      <td>2.28</td>\n",
       "      <td>2.36</td>\n",
       "    </tr>\n",
       "    <tr>\n",
       "      <th>9</th>\n",
       "      <td>瑞典幣 (SEK)  瑞典幣 (SEK)</td>\n",
       "      <td>3.12</td>\n",
       "      <td>3.63</td>\n",
       "      <td>3.46</td>\n",
       "      <td>3.56</td>\n",
       "    </tr>\n",
       "    <tr>\n",
       "      <th>10</th>\n",
       "      <td>紐元 (NZD)  紐元 (NZD)</td>\n",
       "      <td>22.02</td>\n",
       "      <td>22.65</td>\n",
       "      <td>22.26</td>\n",
       "      <td>22.46</td>\n",
       "    </tr>\n",
       "    <tr>\n",
       "      <th>11</th>\n",
       "      <td>泰幣 (THB)  泰幣 (THB)</td>\n",
       "      <td>0.7932</td>\n",
       "      <td>0.9362</td>\n",
       "      <td>0.8817</td>\n",
       "      <td>0.9217</td>\n",
       "    </tr>\n",
       "    <tr>\n",
       "      <th>12</th>\n",
       "      <td>菲國比索 (PHP)  菲國比索 (PHP)</td>\n",
       "      <td>0.6</td>\n",
       "      <td>0.733</td>\n",
       "      <td>-</td>\n",
       "      <td>-</td>\n",
       "    </tr>\n",
       "    <tr>\n",
       "      <th>13</th>\n",
       "      <td>印尼幣 (IDR)  印尼幣 (IDR)</td>\n",
       "      <td>0.00208</td>\n",
       "      <td>0.00278</td>\n",
       "      <td>-</td>\n",
       "      <td>-</td>\n",
       "    </tr>\n",
       "    <tr>\n",
       "      <th>14</th>\n",
       "      <td>歐元 (EUR)  歐元 (EUR)</td>\n",
       "      <td>33.12</td>\n",
       "      <td>34.27</td>\n",
       "      <td>33.62</td>\n",
       "      <td>34.02</td>\n",
       "    </tr>\n",
       "    <tr>\n",
       "      <th>15</th>\n",
       "      <td>韓元 (KRW)  韓元 (KRW)</td>\n",
       "      <td>0.02495</td>\n",
       "      <td>0.02885</td>\n",
       "      <td>-</td>\n",
       "      <td>-</td>\n",
       "    </tr>\n",
       "    <tr>\n",
       "      <th>16</th>\n",
       "      <td>越南盾 (VND)  越南盾 (VND)</td>\n",
       "      <td>0.00105</td>\n",
       "      <td>0.00155</td>\n",
       "      <td>-</td>\n",
       "      <td>-</td>\n",
       "    </tr>\n",
       "    <tr>\n",
       "      <th>17</th>\n",
       "      <td>馬來幣 (MYR)  馬來幣 (MYR)</td>\n",
       "      <td>6.122</td>\n",
       "      <td>7.722</td>\n",
       "      <td>-</td>\n",
       "      <td>-</td>\n",
       "    </tr>\n",
       "    <tr>\n",
       "      <th>18</th>\n",
       "      <td>人民幣 (CNY)  人民幣 (CNY)</td>\n",
       "      <td>4.546</td>\n",
       "      <td>4.708</td>\n",
       "      <td>4.618</td>\n",
       "      <td>4.668</td>\n",
       "    </tr>\n",
       "  </tbody>\n",
       "</table>\n",
       "</div>"
      ],
      "text/plain": [
       "                        幣別 現金匯率-本行買入 現金匯率-本行賣出 即期匯率-本行買入 即期匯率-本行賣出\n",
       "0       美金 (USD)  美金 (USD)     31.95    32.492     32.25     32.35\n",
       "1       港幣 (HKD)  港幣 (HKD)     4.013     4.208     4.133     4.193\n",
       "2       英鎊 (GBP)  英鎊 (GBP)     38.63     40.56      39.5     39.92\n",
       "3       澳幣 (AUD)  澳幣 (AUD)        23     23.66     23.19     23.42\n",
       "4   加拿大幣 (CAD)  加拿大幣 (CAD)     23.42     24.16     23.69     23.91\n",
       "5   新加坡幣 (SGD)  新加坡幣 (SGD)     21.77     22.55     22.19     22.37\n",
       "6   瑞士法郎 (CHF)  瑞士法郎 (CHF)     30.76     31.82     31.29     31.58\n",
       "7       日圓 (JPY)  日圓 (JPY)    0.2664    0.2774    0.2728    0.2768\n",
       "8     南非幣 (ZAR)  南非幣 (ZAR)         -         -      2.28      2.36\n",
       "9     瑞典幣 (SEK)  瑞典幣 (SEK)      3.12      3.63      3.46      3.56\n",
       "10      紐元 (NZD)  紐元 (NZD)     22.02     22.65     22.26     22.46\n",
       "11      泰幣 (THB)  泰幣 (THB)    0.7932    0.9362    0.8817    0.9217\n",
       "12  菲國比索 (PHP)  菲國比索 (PHP)       0.6     0.733         -         -\n",
       "13    印尼幣 (IDR)  印尼幣 (IDR)   0.00208   0.00278         -         -\n",
       "14      歐元 (EUR)  歐元 (EUR)     33.12     34.27     33.62     34.02\n",
       "15      韓元 (KRW)  韓元 (KRW)   0.02495   0.02885         -         -\n",
       "16    越南盾 (VND)  越南盾 (VND)   0.00105   0.00155         -         -\n",
       "17    馬來幣 (MYR)  馬來幣 (MYR)     6.122     7.722         -         -\n",
       "18    人民幣 (CNY)  人民幣 (CNY)     4.546     4.708     4.618     4.668"
      ]
     },
     "execution_count": 72,
     "metadata": {},
     "output_type": "execute_result"
    }
   ],
   "source": [
    "currency"
   ]
  },
  {
   "cell_type": "code",
   "execution_count": null,
   "metadata": {
    "collapsed": true
   },
   "outputs": [],
   "source": []
  }
 ],
 "metadata": {
  "kernelspec": {
   "display_name": "Python 3",
   "language": "python",
   "name": "python3"
  },
  "language_info": {
   "codemirror_mode": {
    "name": "ipython",
    "version": 3
   },
   "file_extension": ".py",
   "mimetype": "text/x-python",
   "name": "python",
   "nbconvert_exporter": "python",
   "pygments_lexer": "ipython3",
   "version": "3.5.2"
  }
 },
 "nbformat": 4,
 "nbformat_minor": 2
}
