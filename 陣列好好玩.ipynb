{
 "cells": [
  {
   "cell_type": "markdown",
   "metadata": {},
   "source": [
    "list 有甚麼不好 ?\n",
    "［範例］ \n",
    "我有三件想買的東西 , 分別是美金1059.96 , 986.45 , 238.55 ,\n",
    "現在一美金合台幣31.4 , 那這三件折合台幣為多少 ?"
   ]
  },
  {
   "cell_type": "code",
   "execution_count": 4,
   "metadata": {
    "collapsed": false
   },
   "outputs": [
    {
     "name": "stdout",
     "output_type": "stream",
     "text": [
      "33282.744\n",
      "30974.53\n",
      "7490.47\n"
     ]
    }
   ],
   "source": [
    "lst = [1059.96 , 986.45 , 238.55]\n",
    "for p in lst:\n",
    "    print(p*31.4)"
   ]
  },
  {
   "cell_type": "code",
   "execution_count": 1,
   "metadata": {
    "collapsed": false
   },
   "outputs": [
    {
     "name": "stdout",
     "output_type": "stream",
     "text": [
      "Populating the interactive namespace from numpy and matplotlib\n"
     ]
    }
   ],
   "source": [
    "%pylab inline  #匯入array lab (pakage)"
   ]
  },
  {
   "cell_type": "code",
   "execution_count": 2,
   "metadata": {
    "collapsed": false
   },
   "outputs": [
    {
     "data": {
      "text/plain": [
       "array([ 1059.96,   986.45,   238.55])"
      ]
     },
     "execution_count": 2,
     "metadata": {},
     "output_type": "execute_result"
    }
   ],
   "source": [
    "lst = [1059.96 , 986.45 , 238.55]\n",
    "arr = array(lst)\n",
    "arr"
   ]
  },
  {
   "cell_type": "code",
   "execution_count": 3,
   "metadata": {
    "collapsed": false
   },
   "outputs": [
    {
     "data": {
      "text/plain": [
       "array([ 33282.744,  30974.53 ,   7490.47 ])"
      ]
     },
     "execution_count": 3,
     "metadata": {},
     "output_type": "execute_result"
    }
   ],
   "source": [
    "arr*31.4 #陣列就可以一次處理"
   ]
  },
  {
   "cell_type": "markdown",
   "metadata": {},
   "source": [
    "[範例]\n",
    "一位老師成績這樣算 :\n",
    "平時考試 20%\n",
    "期中考   35%\n",
    "期末考   45%\n",
    "\n",
    "一位同學\n",
    "平時考試 85\n",
    "期中     70\n",
    "期末     80\n",
    "那他的學期成績多少?"
   ]
  },
  {
   "cell_type": "code",
   "execution_count": 12,
   "metadata": {
    "collapsed": false
   },
   "outputs": [
    {
     "data": {
      "text/plain": [
       "77.5"
      ]
     },
     "execution_count": 12,
     "metadata": {},
     "output_type": "execute_result"
    }
   ],
   "source": [
    "weights = array([0.2 , 0.35 , 0.45])\n",
    "st1 = array([85,70,80])\n",
    "ga1 = st1*weights\n",
    "ga1\n",
    "ga1.sum()"
   ]
  },
  {
   "cell_type": "code",
   "execution_count": null,
   "metadata": {
    "collapsed": true
   },
   "outputs": [],
   "source": []
  }
 ],
 "metadata": {
  "kernelspec": {
   "display_name": "Python 3",
   "language": "python",
   "name": "python3"
  },
  "language_info": {
   "codemirror_mode": {
    "name": "ipython",
    "version": 3
   },
   "file_extension": ".py",
   "mimetype": "text/x-python",
   "name": "python",
   "nbconvert_exporter": "python",
   "pygments_lexer": "ipython3",
   "version": "3.5.2"
  }
 },
 "nbformat": 4,
 "nbformat_minor": 2
}
